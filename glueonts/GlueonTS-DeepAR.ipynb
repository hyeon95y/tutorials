{
 "cells": [
  {
   "cell_type": "markdown",
   "id": "1e2e98b0-b1f4-4960-bc45-4746cddd3bd5",
   "metadata": {
    "tags": []
   },
   "source": [
    "# Prerequisite\n",
    "\n",
    "Following packages must be installed to run codes below\n",
    "\n",
    "```bash\n",
    "$ pip3 install gluonts\n",
    "```\n",
    "\n",
    "# References\n",
    "- [Get Started: A Quick Example](https://ts.gluon.ai)\n",
    "- [amazon-sagemaker-time-series-prediction-using-gluonts](https://github.com/aws-samples/amazon-sagemaker-time-series-prediction-using-gluonts/blob/master/notebooks/part3/twitter_volume_forecast.ipynb)"
   ]
  },
  {
   "cell_type": "code",
   "execution_count": 2,
   "id": "9ebe0979-c227-4bc7-b241-56bdd0bcd9a0",
   "metadata": {},
   "outputs": [
    {
     "name": "stderr",
     "output_type": "stream",
     "text": [
      "/home/ubuntu/.local/lib/python3.6/site-packages/gluonts/json.py:46: UserWarning: Using `json`-module for json-handling. Consider installing one of `orjson`, `ujson` to speed up serialization and deserialization.\n",
      "  \"Using `json`-module for json-handling. \"\n"
     ]
    }
   ],
   "source": [
    "from gluonts.dataset import common\n",
    "from gluonts.model import deepar\n",
    "from gluonts.mx.trainer import Trainer\n",
    "\n",
    "import pandas as pd\n",
    "\n",
    "url = \"https://raw.githubusercontent.com/numenta/NAB/master/data/realTweets/Twitter_volume_AMZN.csv\"\n",
    "df = pd.read_csv(url, header=0, index_col=0)\n",
    "data = common.ListDataset([{\n",
    "    \"start\": df.index[0],\n",
    "    \"target\": df.value[:\"2015-04-05 00:00:00\"]\n",
    "}],freq=\"5min\")"
   ]
  },
  {
   "cell_type": "code",
   "execution_count": 3,
   "id": "42437a73-26fc-417f-9b6c-80daaaa8136c",
   "metadata": {},
   "outputs": [],
   "source": [
    "trainer = Trainer(epochs=10)"
   ]
  },
  {
   "cell_type": "code",
   "execution_count": 4,
   "id": "bcbaac4f-469e-443c-bf76-04cc34a2146e",
   "metadata": {},
   "outputs": [
    {
     "name": "stderr",
     "output_type": "stream",
     "text": [
      "100%|██████████| 50/50 [00:02<00:00, 20.64it/s, epoch=1/10, avg_epoch_loss=4.42]\n",
      "100%|██████████| 50/50 [00:02<00:00, 22.02it/s, epoch=2/10, avg_epoch_loss=4.1]\n",
      "100%|██████████| 50/50 [00:02<00:00, 21.66it/s, epoch=3/10, avg_epoch_loss=4.06]\n",
      "100%|██████████| 50/50 [00:02<00:00, 21.91it/s, epoch=4/10, avg_epoch_loss=4.01]\n",
      "100%|██████████| 50/50 [00:02<00:00, 21.59it/s, epoch=5/10, avg_epoch_loss=4]\n",
      "100%|██████████| 50/50 [00:02<00:00, 21.75it/s, epoch=6/10, avg_epoch_loss=3.99]\n",
      "100%|██████████| 50/50 [00:02<00:00, 21.82it/s, epoch=7/10, avg_epoch_loss=3.97]\n",
      "100%|██████████| 50/50 [00:02<00:00, 22.17it/s, epoch=8/10, avg_epoch_loss=3.95]\n",
      "100%|██████████| 50/50 [00:02<00:00, 21.01it/s, epoch=9/10, avg_epoch_loss=3.95]\n",
      "100%|██████████| 50/50 [00:02<00:00, 21.78it/s, epoch=10/10, avg_epoch_loss=3.95]\n"
     ]
    },
    {
     "name": "stdout",
     "output_type": "stream",
     "text": [
      "[49.301254 48.871902 42.29032  43.48064  41.946884 41.27568  38.280373\n",
      " 40.552887 41.741314 39.505653 42.714554 39.9043  ]\n"
     ]
    },
    {
     "data": {
      "image/png": "[encoded data removed]",
      "text/plain": [
       "<Figure size 432x288 with 1 Axes>"
      ]
     },
     "metadata": {
      "needs_background": "light"
     },
     "output_type": "display_data"
    }
   ],
   "source": [
    "estimator = deepar.DeepAREstimator(\n",
    "    freq=\"5min\", prediction_length=12, trainer=trainer)\n",
    "predictor = estimator.train(training_data=data)\n",
    "\n",
    "prediction = next(predictor.predict(data))\n",
    "print(prediction.mean)\n",
    "prediction.plot(output_file='graph.png')"
   ]
  },
  {
   "cell_type": "code",
   "execution_count": null,
   "id": "e2f5ff8e-f03c-45b0-8a6c-57ecc60e0e2e",
   "metadata": {},
   "outputs": [],
   "source": []
  }
 ],
 "metadata": {
  "kernelspec": {
   "display_name": "Python 3",
   "language": "python",
   "name": "python3"
  },
  "language_info": {
   "codemirror_mode": {
    "name": "ipython",
    "version": 3
   },
   "file_extension": ".py",
   "mimetype": "text/x-python",
   "name": "python",
   "nbconvert_exporter": "python",
   "pygments_lexer": "ipython3",
   "version": "3.6.9"
  }
 },
 "nbformat": 4,
 "nbformat_minor": 5
}
