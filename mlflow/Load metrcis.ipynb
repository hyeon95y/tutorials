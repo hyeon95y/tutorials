{
 "cells": [
  {
   "cell_type": "code",
   "execution_count": 6,
   "metadata": {},
   "outputs": [],
   "source": [
    "from _secrets import TRACKING_URI\n",
    "# Tracking starts with http:// .. and ends with amazonaws.com (In case deployed aon AWS)\n",
    "EXPERIMENT_NAME = 'test'"
   ]
  },
  {
   "cell_type": "code",
   "execution_count": 7,
   "metadata": {},
   "outputs": [
    {
     "data": {
      "text/plain": [
       "<Experiment: artifact_location='s3://mlflow-artifacts-512900982215/3', experiment_id='3', lifecycle_stage='active', name='test', tags={}>"
      ]
     },
     "execution_count": 7,
     "metadata": {},
     "output_type": "execute_result"
    }
   ],
   "source": [
    "import mlflow\n",
    "\n",
    "mlflow.set_tracking_uri(TRACKING_URI)\n",
    "mlflow.set_experiment(EXPERIMENT_NAME)"
   ]
  },
  {
   "cell_type": "code",
   "execution_count": 8,
   "metadata": {},
   "outputs": [],
   "source": [
    "experiment_name = EXPERIMENT_NAME\n",
    "current_experiment=dict(mlflow.get_experiment_by_name(experiment_name))\n",
    "experiment_id=current_experiment['experiment_id']"
   ]
  },
  {
   "cell_type": "code",
   "execution_count": 9,
   "metadata": {},
   "outputs": [
    {
     "data": {
      "text/plain": [
       "'3'"
      ]
     },
     "execution_count": 9,
     "metadata": {},
     "output_type": "execute_result"
    }
   ],
   "source": [
    "experiment_id"
   ]
  },
  {
   "cell_type": "code",
   "execution_count": 10,
   "metadata": {},
   "outputs": [
    {
     "data": {
      "text/html": [
       "<div>\n",
       "<style scoped>\n",
       "    .dataframe tbody tr th:only-of-type {\n",
       "        vertical-align: middle;\n",
       "    }\n",
       "\n",
       "    .dataframe tbody tr th {\n",
       "        vertical-align: top;\n",
       "    }\n",
       "\n",
       "    .dataframe thead th {\n",
       "        text-align: right;\n",
       "    }\n",
       "</style>\n",
       "<table border=\"1\" class=\"dataframe\">\n",
       "  <thead>\n",
       "    <tr style=\"text-align: right;\">\n",
       "      <th></th>\n",
       "      <th>run_id</th>\n",
       "      <th>experiment_id</th>\n",
       "      <th>status</th>\n",
       "      <th>artifact_uri</th>\n",
       "      <th>start_time</th>\n",
       "      <th>end_time</th>\n",
       "      <th>metrics.mae</th>\n",
       "      <th>metrics.rmse</th>\n",
       "      <th>metrics.r2</th>\n",
       "      <th>params.l1_ratio</th>\n",
       "      <th>params.alpha</th>\n",
       "      <th>tags.mlflow.source.type</th>\n",
       "      <th>tags.mlflow.user</th>\n",
       "      <th>tags.mlflow.source.name</th>\n",
       "      <th>tags.mlflow.log-model.history</th>\n",
       "    </tr>\n",
       "  </thead>\n",
       "  <tbody>\n",
       "    <tr>\n",
       "      <th>0</th>\n",
       "      <td>117da069cef34340b0c273166a290990</td>\n",
       "      <td>3</td>\n",
       "      <td>FINISHED</td>\n",
       "      <td>s3://mlflow-artifacts-512900982215/3/117da069c...</td>\n",
       "      <td>2022-04-19 04:15:15.312000+00:00</td>\n",
       "      <td>2022-04-19 04:15:18.390000+00:00</td>\n",
       "      <td>0.63427</td>\n",
       "      <td>0.828749</td>\n",
       "      <td>0.134972</td>\n",
       "      <td>0.5</td>\n",
       "      <td>0.5</td>\n",
       "      <td>LOCAL</td>\n",
       "      <td>root</td>\n",
       "      <td>/opt/conda/lib/python3.7/site-packages/ipykern...</td>\n",
       "      <td>[{\"run_id\": \"117da069cef34340b0c273166a290990\"...</td>\n",
       "    </tr>\n",
       "  </tbody>\n",
       "</table>\n",
       "</div>"
      ],
      "text/plain": [
       "                             run_id experiment_id    status  \\\n",
       "0  117da069cef34340b0c273166a290990             3  FINISHED   \n",
       "\n",
       "                                        artifact_uri  \\\n",
       "0  s3://mlflow-artifacts-512900982215/3/117da069c...   \n",
       "\n",
       "                        start_time                         end_time  \\\n",
       "0 2022-04-19 04:15:15.312000+00:00 2022-04-19 04:15:18.390000+00:00   \n",
       "\n",
       "   metrics.mae  metrics.rmse  metrics.r2 params.l1_ratio params.alpha  \\\n",
       "0      0.63427      0.828749    0.134972             0.5          0.5   \n",
       "\n",
       "  tags.mlflow.source.type tags.mlflow.user  \\\n",
       "0                   LOCAL             root   \n",
       "\n",
       "                             tags.mlflow.source.name  \\\n",
       "0  /opt/conda/lib/python3.7/site-packages/ipykern...   \n",
       "\n",
       "                       tags.mlflow.log-model.history  \n",
       "0  [{\"run_id\": \"117da069cef34340b0c273166a290990\"...  "
      ]
     },
     "execution_count": 10,
     "metadata": {},
     "output_type": "execute_result"
    }
   ],
   "source": [
    "mlflow.search_runs(experiment_ids=experiment_id)"
   ]
  },
  {
   "cell_type": "code",
   "execution_count": null,
   "metadata": {},
   "outputs": [],
   "source": []
  }
 ],
 "metadata": {
  "instance_type": "ml.t3.medium",
  "kernelspec": {
   "display_name": "Python 3 (Data Science)",
   "language": "python",
   "name": "python3__SAGEMAKER_INTERNAL__arn:aws:sagemaker:ap-northeast-2:806072073708:image/datascience-1.0"
  },
  "language_info": {
   "codemirror_mode": {
    "name": "ipython",
    "version": 3
   },
   "file_extension": ".py",
   "mimetype": "text/x-python",
   "name": "python",
   "nbconvert_exporter": "python",
   "pygments_lexer": "ipython3",
   "version": "3.7.10"
  }
 },
 "nbformat": 4,
 "nbformat_minor": 4
}
