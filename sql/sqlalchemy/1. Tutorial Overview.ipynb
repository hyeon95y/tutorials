{
 "cells": [
  {
   "cell_type": "markdown",
   "id": "eb29af19-d8b7-413f-b48f-2773f02f4b5f",
   "metadata": {},
   "source": [
    "# SQLALchemy 1.4 / 2.0 Tutorial\n",
    "- [Official Documentaiton](https://docs.sqlalchemy.org/en/14/tutorial/engine.html)"
   ]
  },
  {
   "cell_type": "code",
   "execution_count": 1,
   "id": "acf2e8a0-cf4a-4cae-9613-4af98083ee3f",
   "metadata": {},
   "outputs": [],
   "source": [
    "import sqlalchemy\n",
    "assert sqlalchemy.__version__ == '1.4.31'"
   ]
  }
 ],
 "metadata": {
  "kernelspec": {
   "display_name": "Python 3",
   "language": "python",
   "name": "python3"
  },
  "language_info": {
   "codemirror_mode": {
    "name": "ipython",
    "version": 3
   },
   "file_extension": ".py",
   "mimetype": "text/x-python",
   "name": "python",
   "nbconvert_exporter": "python",
   "pygments_lexer": "ipython3",
   "version": "3.6.9"
  }
 },
 "nbformat": 4,
 "nbformat_minor": 5
}
