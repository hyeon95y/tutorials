{
 "cells": [
  {
   "cell_type": "markdown",
   "id": "eb29af19-d8b7-413f-b48f-2773f02f4b5f",
   "metadata": {},
   "source": [
    "# SQLALchemy 1.4 / 2.0 Tutorial\n",
    "- [Establishing Connectivity - the Engine](https://docs.sqlalchemy.org/en/14/tutorial/engine.html)\n",
    "- [Working with Transactions and the DBAPI](https://docs.sqlalchemy.org/en/14/tutorial/dbapi_transactions.html)"
   ]
  },
  {
   "cell_type": "code",
   "execution_count": 1,
   "id": "acf2e8a0-cf4a-4cae-9613-4af98083ee3f",
   "metadata": {},
   "outputs": [],
   "source": [
    "from sqlalchemy import create_engine\n",
    "engine = create_engine(\"sqlite+pysqlite:///:memory:\", echo=True, future=True)"
   ]
  },
  {
   "cell_type": "code",
   "execution_count": 7,
   "id": "b7c3d156-2a37-42d7-a5b3-325985db7bfa",
   "metadata": {},
   "outputs": [
    {
     "name": "stdout",
     "output_type": "stream",
     "text": [
      "2022-02-23 03:55:09,153 INFO sqlalchemy.engine.Engine BEGIN (implicit)\n",
      "2022-02-23 03:55:09,159 INFO sqlalchemy.engine.Engine select 'hello world'\n",
      "2022-02-23 03:55:09,160 INFO sqlalchemy.engine.Engine [cached since 112s ago] ()\n",
      "[('hello world',)]\n",
      "2022-02-23 03:55:09,160 INFO sqlalchemy.engine.Engine ROLLBACK\n"
     ]
    }
   ],
   "source": [
    "from sqlalchemy import text\n",
    "\n",
    "with engine.connect() as conn :\n",
    "    result = conn.execute(text(\"select 'hello world'\"))\n",
    "    print(result.all())"
   ]
  },
  {
   "cell_type": "code",
   "execution_count": 8,
   "id": "6ddf04d1-fec4-4fde-aff2-88f36be1ee93",
   "metadata": {},
   "outputs": [
    {
     "name": "stdout",
     "output_type": "stream",
     "text": [
      "2022-02-23 03:56:07,511 INFO sqlalchemy.engine.Engine BEGIN (implicit)\n",
      "2022-02-23 03:56:07,516 INFO sqlalchemy.engine.Engine CREATE TABLE some_table (x int, y int)\n",
      "2022-02-23 03:56:07,517 INFO sqlalchemy.engine.Engine [generated in 0.00624s] ()\n",
      "2022-02-23 03:56:07,518 INFO sqlalchemy.engine.Engine INSERT INTO some_table (x, y) VALUES (?, ?)\n",
      "2022-02-23 03:56:07,523 INFO sqlalchemy.engine.Engine [generated in 0.00440s] ((1, 1), (2, 4))\n",
      "2022-02-23 03:56:07,524 INFO sqlalchemy.engine.Engine COMMIT\n"
     ]
    }
   ],
   "source": [
    "with engine.connect() as conn:\n",
    "    conn.execute(text(\"CREATE TABLE some_table (x int, y int)\"))\n",
    "    conn.execute(\n",
    "        text(\"INSERT INTO some_table (x, y) VALUES (:x, :y)\"),\n",
    "        [{\"x\": 1, \"y\": 1}, {\"x\": 2, \"y\": 4}]\n",
    "    )\n",
    "    conn.commit()"
   ]
  },
  {
   "cell_type": "code",
   "execution_count": 9,
   "id": "efaf6d3f-490e-43fa-bc2b-b7b7a9958976",
   "metadata": {},
   "outputs": [
    {
     "name": "stdout",
     "output_type": "stream",
     "text": [
      "2022-02-23 04:05:21,276 INFO sqlalchemy.engine.Engine BEGIN (implicit)\n",
      "2022-02-23 04:05:21,281 INFO sqlalchemy.engine.Engine INSERT INTO some_table (x, y) VALUES (?, ?)\n",
      "2022-02-23 04:05:21,283 INFO sqlalchemy.engine.Engine [cached since 553.8s ago] ((6, 8), (9, 10))\n",
      "2022-02-23 04:05:21,284 INFO sqlalchemy.engine.Engine COMMIT\n"
     ]
    }
   ],
   "source": [
    "with engine.begin() as conn:\n",
    "    conn.execute(\n",
    "        text(\"INSERT INTO some_table (x, y) VALUES (:x, :y)\"),\n",
    "        [{\"x\": 6, \"y\": 8}, {\"x\": 9, \"y\": 10}]\n",
    "    )"
   ]
  },
  {
   "cell_type": "code",
   "execution_count": 19,
   "id": "42084317-a5cd-4803-8c6f-939558cb4feb",
   "metadata": {},
   "outputs": [
    {
     "name": "stdout",
     "output_type": "stream",
     "text": [
      "2022-02-23 04:12:07,230 INFO sqlalchemy.engine.Engine BEGIN (implicit)\n",
      "2022-02-23 04:12:07,234 INFO sqlalchemy.engine.Engine SELECT x, y FROM some_table\n",
      "2022-02-23 04:12:07,235 INFO sqlalchemy.engine.Engine [cached since 216.9s ago] ()\n",
      "x: 1  y: 1\n",
      "x: 2  y: 4\n",
      "x: 6  y: 8\n",
      "x: 9  y: 10\n",
      "2022-02-23 04:12:07,237 INFO sqlalchemy.engine.Engine ROLLBACK\n"
     ]
    }
   ],
   "source": [
    "with engine.connect() as conn:\n",
    "    result = conn.execute(text(\"SELECT x, y FROM some_table\"))\n",
    "    for row in result:\n",
    "        print(f\"x: {row.x}  y: {row.y}\")"
   ]
  },
  {
   "cell_type": "code",
   "execution_count": 20,
   "id": "c0d700e6-545b-42d6-bb51-ab1e3caae816",
   "metadata": {},
   "outputs": [
    {
     "name": "stdout",
     "output_type": "stream",
     "text": [
      "2022-02-23 04:12:40,320 INFO sqlalchemy.engine.Engine BEGIN (implicit)\n",
      "2022-02-23 04:12:40,325 INFO sqlalchemy.engine.Engine SELECT x, y FROM some_table\n",
      "2022-02-23 04:12:40,326 INFO sqlalchemy.engine.Engine [cached since 250s ago] ()\n",
      "x: 1  y: 1\n",
      "x: 2  y: 4\n",
      "x: 6  y: 8\n",
      "x: 9  y: 10\n",
      "2022-02-23 04:12:40,329 INFO sqlalchemy.engine.Engine ROLLBACK\n"
     ]
    }
   ],
   "source": [
    "with engine.connect() as conn:\n",
    "    result = conn.execute(text(\"SELECT x, y FROM some_table\"))\n",
    "    for row in result:\n",
    "        x = row[0]\n",
    "        y = row[1]\n",
    "        print(f\"x: {x}  y: {y}\")"
   ]
  },
  {
   "cell_type": "code",
   "execution_count": 21,
   "id": "575519eb-89f1-42b1-befe-202ae4e59c37",
   "metadata": {},
   "outputs": [
    {
     "name": "stdout",
     "output_type": "stream",
     "text": [
      "2022-02-23 04:12:57,160 INFO sqlalchemy.engine.Engine BEGIN (implicit)\n",
      "2022-02-23 04:12:57,164 INFO sqlalchemy.engine.Engine SELECT x, y FROM some_table\n",
      "2022-02-23 04:12:57,166 INFO sqlalchemy.engine.Engine [cached since 266.8s ago] ()\n",
      "x: 1  y: 1\n",
      "x: 2  y: 4\n",
      "x: 6  y: 8\n",
      "x: 9  y: 10\n",
      "2022-02-23 04:12:57,167 INFO sqlalchemy.engine.Engine ROLLBACK\n"
     ]
    }
   ],
   "source": [
    "with engine.connect() as conn:\n",
    "    result = conn.execute(text(\"SELECT x, y FROM some_table\"))\n",
    "    for x, y in result:\n",
    "        print(f\"x: {x}  y: {y}\")"
   ]
  },
  {
   "cell_type": "code",
   "execution_count": 22,
   "id": "03d31ad5-8d83-4569-a23b-a7c9c1f60928",
   "metadata": {},
   "outputs": [
    {
     "name": "stdout",
     "output_type": "stream",
     "text": [
      "2022-02-23 04:13:37,567 INFO sqlalchemy.engine.Engine BEGIN (implicit)\n",
      "2022-02-23 04:13:37,571 INFO sqlalchemy.engine.Engine SELECT x, y FROM some_table\n",
      "2022-02-23 04:13:37,572 INFO sqlalchemy.engine.Engine [cached since 307.2s ago] ()\n",
      "x: 1  y: 1\n",
      "x: 2  y: 4\n",
      "x: 6  y: 8\n",
      "x: 9  y: 10\n",
      "2022-02-23 04:13:37,576 INFO sqlalchemy.engine.Engine ROLLBACK\n"
     ]
    }
   ],
   "source": [
    "with engine.connect() as conn:\n",
    "    result = conn.execute(text(\"SELECT x, y FROM some_table\"))\n",
    "\n",
    "    for dict_row in result.mappings():\n",
    "        x = dict_row['x']\n",
    "        y = dict_row['y']\n",
    "        print(f\"x: {x}  y: {y}\")"
   ]
  },
  {
   "cell_type": "code",
   "execution_count": 24,
   "id": "41192016-8792-4dac-ba57-e6ccab6c3edb",
   "metadata": {},
   "outputs": [
    {
     "name": "stdout",
     "output_type": "stream",
     "text": [
      "2022-02-23 04:15:51,614 INFO sqlalchemy.engine.Engine BEGIN (implicit)\n",
      "2022-02-23 04:15:51,616 INFO sqlalchemy.engine.Engine SELECT x, y FROM some_table WHERE y > ?\n",
      "2022-02-23 04:15:51,617 INFO sqlalchemy.engine.Engine [cached since 5.882s ago] (2,)\n",
      "x: 2  y: 4\n",
      "x: 6  y: 8\n",
      "x: 9  y: 10\n",
      "2022-02-23 04:15:51,618 INFO sqlalchemy.engine.Engine ROLLBACK\n"
     ]
    }
   ],
   "source": [
    "with engine.connect() as conn:\n",
    "    result = conn.execute(\n",
    "        text(\"SELECT x, y FROM some_table WHERE y > :y\"),\n",
    "        {\"y\": 2}\n",
    "    )\n",
    "    for row in result:\n",
    "        print(f\"x: {row.x}  y: {row.y}\")"
   ]
  },
  {
   "cell_type": "code",
   "execution_count": 25,
   "id": "2fec2786-7d62-4f4c-96d1-cb7ef62b8dac",
   "metadata": {},
   "outputs": [
    {
     "name": "stdout",
     "output_type": "stream",
     "text": [
      "2022-02-23 04:17:52,271 INFO sqlalchemy.engine.Engine BEGIN (implicit)\n",
      "2022-02-23 04:17:52,277 INFO sqlalchemy.engine.Engine INSERT INTO some_table (x, y) VALUES (?, ?)\n",
      "2022-02-23 04:17:52,278 INFO sqlalchemy.engine.Engine [cached since 1305s ago] ((11, 12), (13, 14))\n",
      "2022-02-23 04:17:52,279 INFO sqlalchemy.engine.Engine COMMIT\n"
     ]
    }
   ],
   "source": [
    "with engine.connect() as conn:\n",
    "    conn.execute(\n",
    "        text(\"INSERT INTO some_table (x, y) VALUES (:x, :y)\"),\n",
    "        [{\"x\": 11, \"y\": 12}, {\"x\": 13, \"y\": 14}]\n",
    "    )\n",
    "    conn.commit()"
   ]
  },
  {
   "cell_type": "code",
   "execution_count": null,
   "id": "7d9da87f-aaa2-41d4-99a4-d171a998a60f",
   "metadata": {},
   "outputs": [],
   "source": []
  }
 ],
 "metadata": {
  "kernelspec": {
   "display_name": "Python 3",
   "language": "python",
   "name": "python3"
  },
  "language_info": {
   "codemirror_mode": {
    "name": "ipython",
    "version": 3
   },
   "file_extension": ".py",
   "mimetype": "text/x-python",
   "name": "python",
   "nbconvert_exporter": "python",
   "pygments_lexer": "ipython3",
   "version": "3.6.9"
  }
 },
 "nbformat": 4,
 "nbformat_minor": 5
}
