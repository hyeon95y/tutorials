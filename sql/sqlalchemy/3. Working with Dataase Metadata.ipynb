{
 "cells": [
  {
   "cell_type": "markdown",
   "id": "eb29af19-d8b7-413f-b48f-2773f02f4b5f",
   "metadata": {},
   "source": [
    "# SQLALchemy 1.4 / 2.0 Tutorial\n",
    "- [Working with Database Metadtaa](https://docs.sqlalchemy.org/en/14/tutorial/metadata.html)"
   ]
  },
  {
   "cell_type": "code",
   "execution_count": 1,
   "id": "d9cb201a-ba4a-4e7e-be6d-5b18d4d38ad3",
   "metadata": {},
   "outputs": [],
   "source": [
    "from sqlalchemy import MetaData\n",
    "metadata_obj = MetaData()"
   ]
  },
  {
   "cell_type": "code",
   "execution_count": 2,
   "id": "4645dca2-9583-47ad-9cab-1424acd591a0",
   "metadata": {},
   "outputs": [],
   "source": [
    "from sqlalchemy import Table, Column, Integer, String\n",
    "user_table = Table(\n",
    "    \"user_account\",\n",
    "    metadata_obj,\n",
    "    Column('id', Integer, primary_key=True),\n",
    "    Column('name', String(30)),\n",
    "    Column('fullname', String)\n",
    ")"
   ]
  },
  {
   "cell_type": "code",
   "execution_count": 3,
   "id": "3e72ebdb-61e7-434a-bec4-b45835405b38",
   "metadata": {},
   "outputs": [
    {
     "data": {
      "text/plain": [
       "Table('user_account', MetaData(), Column('id', Integer(), table=<user_account>, primary_key=True, nullable=False), Column('name', String(length=30), table=<user_account>), Column('fullname', String(), table=<user_account>), schema=None)"
      ]
     },
     "execution_count": 3,
     "metadata": {},
     "output_type": "execute_result"
    }
   ],
   "source": [
    "user_table"
   ]
  },
  {
   "cell_type": "code",
   "execution_count": 8,
   "id": "cbb1612d-0657-42cc-b4f8-c80f756fa58e",
   "metadata": {},
   "outputs": [
    {
     "data": {
      "text/plain": [
       "'user_account'"
      ]
     },
     "execution_count": 8,
     "metadata": {},
     "output_type": "execute_result"
    }
   ],
   "source": [
    "user_table.name"
   ]
  },
  {
   "cell_type": "code",
   "execution_count": 7,
   "id": "ccb4fe9a-bf4d-4c01-8d7a-dbadf49bc0f6",
   "metadata": {},
   "outputs": [
    {
     "data": {
      "text/plain": [
       "<sqlalchemy.sql.base.ImmutableColumnCollection at 0x7fcdc5572e30>"
      ]
     },
     "execution_count": 7,
     "metadata": {},
     "output_type": "execute_result"
    }
   ],
   "source": [
    "user_table.c"
   ]
  },
  {
   "cell_type": "code",
   "execution_count": 11,
   "id": "5386e108-b218-44a6-b6c2-dc48e04c4c78",
   "metadata": {},
   "outputs": [
    {
     "data": {
      "text/plain": [
       "<sqlalchemy.sql.base.ImmutableColumnCollection at 0x7fcdc5572e30>"
      ]
     },
     "execution_count": 11,
     "metadata": {},
     "output_type": "execute_result"
    }
   ],
   "source": [
    "user_table.columns"
   ]
  },
  {
   "cell_type": "code",
   "execution_count": 6,
   "id": "b5e01ee1-dec3-4ffc-8d89-caf43a6c64e3",
   "metadata": {},
   "outputs": [
    {
     "data": {
      "text/plain": [
       "Column('name', String(length=30), table=<user_account>)"
      ]
     },
     "execution_count": 6,
     "metadata": {},
     "output_type": "execute_result"
    }
   ],
   "source": [
    "user_table.c.name"
   ]
  },
  {
   "cell_type": "code",
   "execution_count": 10,
   "id": "dc08984f-c00b-4fa6-a78c-b2dc34592955",
   "metadata": {},
   "outputs": [
    {
     "data": {
      "text/plain": [
       "Column('name', String(length=30), table=<user_account>)"
      ]
     },
     "execution_count": 10,
     "metadata": {},
     "output_type": "execute_result"
    }
   ],
   "source": [
    "user_table.columns.name"
   ]
  },
  {
   "cell_type": "code",
   "execution_count": 12,
   "id": "9597fc4b-0c8d-40b2-8dae-fb998b2a8af2",
   "metadata": {},
   "outputs": [
    {
     "data": {
      "text/plain": [
       "PrimaryKeyConstraint(Column('id', Integer(), table=<user_account>, primary_key=True, nullable=False))"
      ]
     },
     "execution_count": 12,
     "metadata": {},
     "output_type": "execute_result"
    }
   ],
   "source": [
    "user_table.primary_key"
   ]
  },
  {
   "cell_type": "code",
   "execution_count": 13,
   "id": "de063872-c051-4d04-af0f-ffdad25bd2ea",
   "metadata": {},
   "outputs": [],
   "source": [
    "from sqlalchemy import ForeignKey\n",
    "address_table = Table(\n",
    "    \"address\",\n",
    "    metadata_obj,\n",
    "    Column('id', Integer, primary_key=True),\n",
    "    Column('user_id', ForeignKey('user_account.id'), nullable=False),\n",
    "    Column('email_address', String, nullable=False)\n",
    ")"
   ]
  },
  {
   "cell_type": "code",
   "execution_count": 15,
   "id": "6755abb9-8e58-496f-8e7a-e867dc4a888d",
   "metadata": {},
   "outputs": [
    {
     "name": "stdout",
     "output_type": "stream",
     "text": [
      "2022-02-25 15:41:36,626 INFO sqlalchemy.engine.Engine BEGIN (implicit)\n",
      "2022-02-25 15:41:36,632 INFO sqlalchemy.engine.Engine PRAGMA main.table_info(\"user_account\")\n",
      "2022-02-25 15:41:36,641 INFO sqlalchemy.engine.Engine [raw sql] ()\n",
      "2022-02-25 15:41:36,657 INFO sqlalchemy.engine.Engine PRAGMA temp.table_info(\"user_account\")\n",
      "2022-02-25 15:41:36,660 INFO sqlalchemy.engine.Engine [raw sql] ()\n",
      "2022-02-25 15:41:36,665 INFO sqlalchemy.engine.Engine PRAGMA main.table_info(\"address\")\n",
      "2022-02-25 15:41:36,668 INFO sqlalchemy.engine.Engine [raw sql] ()\n",
      "2022-02-25 15:41:36,669 INFO sqlalchemy.engine.Engine PRAGMA temp.table_info(\"address\")\n",
      "2022-02-25 15:41:36,672 INFO sqlalchemy.engine.Engine [raw sql] ()\n",
      "2022-02-25 15:41:36,679 INFO sqlalchemy.engine.Engine \n",
      "CREATE TABLE user_account (\n",
      "\tid INTEGER NOT NULL, \n",
      "\tname VARCHAR(30), \n",
      "\tfullname VARCHAR, \n",
      "\tPRIMARY KEY (id)\n",
      ")\n",
      "\n",
      "\n",
      "2022-02-25 15:41:36,681 INFO sqlalchemy.engine.Engine [no key 0.00209s] ()\n",
      "2022-02-25 15:41:36,685 INFO sqlalchemy.engine.Engine \n",
      "CREATE TABLE address (\n",
      "\tid INTEGER NOT NULL, \n",
      "\tuser_id INTEGER NOT NULL, \n",
      "\temail_address VARCHAR NOT NULL, \n",
      "\tPRIMARY KEY (id), \n",
      "\tFOREIGN KEY(user_id) REFERENCES user_account (id)\n",
      ")\n",
      "\n",
      "\n",
      "2022-02-25 15:41:36,702 INFO sqlalchemy.engine.Engine [no key 0.01705s] ()\n",
      "2022-02-25 15:41:36,708 INFO sqlalchemy.engine.Engine COMMIT\n"
     ]
    }
   ],
   "source": [
    "from sqlalchemy import create_engine\n",
    "engine = create_engine(\"sqlite+pysqlite:///:memory:\", echo=True, future=True)\n",
    "metadata_obj.create_all(engine)"
   ]
  },
  {
   "cell_type": "code",
   "execution_count": 16,
   "id": "c28e7913-5fa8-4422-bff4-9eb25577221b",
   "metadata": {},
   "outputs": [],
   "source": [
    "from sqlalchemy.orm import registry\n",
    "mapper_registry = registry()"
   ]
  },
  {
   "cell_type": "code",
   "execution_count": 17,
   "id": "0f049dc8-24c9-471a-a787-4b40c0cf5d95",
   "metadata": {},
   "outputs": [
    {
     "data": {
      "text/plain": [
       "MetaData()"
      ]
     },
     "execution_count": 17,
     "metadata": {},
     "output_type": "execute_result"
    }
   ],
   "source": [
    "mapper_registry.metadata"
   ]
  },
  {
   "cell_type": "code",
   "execution_count": 18,
   "id": "44d66678-0b3e-4d61-b3b5-e47eb5eaf797",
   "metadata": {},
   "outputs": [],
   "source": [
    "Base = mapper_registry.generate_base()"
   ]
  },
  {
   "cell_type": "code",
   "execution_count": 19,
   "id": "d8df8810-d227-4a8f-82c9-923160287799",
   "metadata": {},
   "outputs": [],
   "source": [
    "from sqlalchemy.orm import declarative_base\n",
    "Base = declarative_base()"
   ]
  },
  {
   "cell_type": "code",
   "execution_count": 20,
   "id": "d63c8b7c-1b6b-4d1e-bf2d-3c31d1f91c7c",
   "metadata": {},
   "outputs": [],
   "source": [
    "from sqlalchemy.orm import relationship\n",
    "class User(Base):\n",
    "    __tablename__ = 'user_account'\n",
    "    id = Column(Integer, primary_key=True)\n",
    "    name = Column(String(30))\n",
    "    fullname = Column(String)\n",
    "    addresses = relationship(\"Address\", back_populates=\"user\")\n",
    "    def __repr__(self):\n",
    "        return f\"User(id={self.id!r}, name={self.name!r}, fullname={self.fullname!r})\"\n",
    "\n",
    "class Address(Base):\n",
    "    __tablename__ = 'address'\n",
    "    id = Column(Integer, primary_key=True)\n",
    "    email_address = Column(String, nullable=False)\n",
    "    user_id = Column(Integer, ForeignKey('user_account.id'))\n",
    "    user = relationship(\"User\", back_populates=\"addresses\")\n",
    "    def __repr__(self):\n",
    "        return f\"Address(id={self.id!r}, email_address={self.email_address!r})\""
   ]
  },
  {
   "cell_type": "code",
   "execution_count": 26,
   "id": "d87ef443-613e-44f6-9c4f-08cda9b94b6e",
   "metadata": {},
   "outputs": [
    {
     "name": "stdout",
     "output_type": "stream",
     "text": [
      "Table('user_account', MetaData(), Column('id', Integer(), table=<user_account>, primary_key=True, nullable=False), Column('name', String(length=30), table=<user_account>), Column('fullname', String(), table=<user_account>), schema=None)\n"
     ]
    }
   ],
   "source": [
    "User.__table__"
   ]
  },
  {
   "cell_type": "code",
   "execution_count": 22,
   "id": "a72896ef-5462-4caf-a5c6-9ba2bb2ccf36",
   "metadata": {},
   "outputs": [
    {
     "data": {
      "text/plain": [
       "Table('address', MetaData(), Column('id', Integer(), table=<address>, primary_key=True, nullable=False), Column('email_address', String(), table=<address>, nullable=False), Column('user_id', Integer(), ForeignKey('user_account.id'), table=<address>), schema=None)"
      ]
     },
     "execution_count": 22,
     "metadata": {},
     "output_type": "execute_result"
    }
   ],
   "source": [
    "Address.__table__"
   ]
  },
  {
   "cell_type": "code",
   "execution_count": 27,
   "id": "ada01313-6ea1-4481-9bb9-97be953d8e41",
   "metadata": {},
   "outputs": [],
   "source": [
    "sandy = User(name='sandy', fullname='Sandy Cheeks')"
   ]
  },
  {
   "cell_type": "code",
   "execution_count": 28,
   "id": "6c87ce21-0a40-44aa-82aa-4847e32cb473",
   "metadata": {},
   "outputs": [
    {
     "data": {
      "text/plain": [
       "User(id=None, name='sandy', fullname='Sandy Cheeks')"
      ]
     },
     "execution_count": 28,
     "metadata": {},
     "output_type": "execute_result"
    }
   ],
   "source": [
    "sandy"
   ]
  },
  {
   "cell_type": "code",
   "execution_count": 29,
   "id": "aa334789-5188-4cb4-a111-b7f4b0843565",
   "metadata": {},
   "outputs": [
    {
     "name": "stdout",
     "output_type": "stream",
     "text": [
      "2022-02-27 00:30:45,486 INFO sqlalchemy.engine.Engine BEGIN (implicit)\n",
      "2022-02-27 00:30:45,526 INFO sqlalchemy.engine.Engine COMMIT\n",
      "2022-02-27 00:30:45,528 INFO sqlalchemy.engine.Engine BEGIN (implicit)\n",
      "2022-02-27 00:30:45,532 INFO sqlalchemy.engine.Engine PRAGMA main.table_info(\"user_account\")\n",
      "2022-02-27 00:30:45,543 INFO sqlalchemy.engine.Engine [raw sql] ()\n",
      "2022-02-27 00:30:45,561 INFO sqlalchemy.engine.Engine PRAGMA main.table_info(\"address\")\n",
      "2022-02-27 00:30:45,565 INFO sqlalchemy.engine.Engine [raw sql] ()\n",
      "2022-02-27 00:30:45,587 INFO sqlalchemy.engine.Engine COMMIT\n"
     ]
    }
   ],
   "source": [
    "# emit CREATE statements given ORM registry\n",
    "mapper_registry.metadata.create_all(engine)\n",
    "\n",
    "# the identical MetaData object is also present on the\n",
    "# declarative base\n",
    "Base.metadata.create_all(engine)"
   ]
  },
  {
   "cell_type": "code",
   "execution_count": 31,
   "id": "776549c8-6b77-4c3c-8f6b-a3a659b6c6d3",
   "metadata": {},
   "outputs": [
    {
     "name": "stderr",
     "output_type": "stream",
     "text": [
      "/root/anaconda3/lib/python3.7/site-packages/ipykernel_launcher.py:1: SAWarning: This declarative base already contains a class with the same class name and module name as __main__.User, and will be replaced in the string-lookup table.\n",
      "  \"\"\"Entry point for launching an IPython kernel.\n",
      "/root/anaconda3/lib/python3.7/site-packages/ipykernel_launcher.py:9: SAWarning: This declarative base already contains a class with the same class name and module name as __main__.Address, and will be replaced in the string-lookup table.\n",
      "  if __name__ == '__main__':\n"
     ]
    }
   ],
   "source": [
    "class User(Base):\n",
    "    __table__ = user_table\n",
    "\n",
    "    addresses = relationship(\"Address\", back_populates=\"user\")\n",
    "\n",
    "    def __repr__(self):\n",
    "        return f\"User({self.name!r}, {self.fullname!r})\"\n",
    "\n",
    "class Address(Base):\n",
    "    __table__ = address_table\n",
    "\n",
    "    user = relationship(\"User\", back_populates=\"addresses\")\n",
    "\n",
    "    def __repr__(self):\n",
    "        return f\"Address({self.email_address!r})\""
   ]
  },
  {
   "cell_type": "code",
   "execution_count": 32,
   "id": "10f9fd9c-f7d7-417a-9a50-39f4a9d62dc1",
   "metadata": {},
   "outputs": [
    {
     "name": "stdout",
     "output_type": "stream",
     "text": [
      "2022-02-27 00:36:59,813 INFO sqlalchemy.engine.Engine BEGIN (implicit)\n",
      "2022-02-27 00:36:59,821 INFO sqlalchemy.engine.Engine PRAGMA main.table_xinfo(\"some_table\")\n",
      "2022-02-27 00:36:59,827 INFO sqlalchemy.engine.Engine [raw sql] ()\n",
      "2022-02-27 00:36:59,835 INFO sqlalchemy.engine.Engine PRAGMA temp.table_xinfo(\"some_table\")\n",
      "2022-02-27 00:36:59,837 INFO sqlalchemy.engine.Engine [raw sql] ()\n",
      "2022-02-27 00:36:59,841 INFO sqlalchemy.engine.Engine PRAGMA main.table_info(\"some_table\")\n",
      "2022-02-27 00:36:59,842 INFO sqlalchemy.engine.Engine [raw sql] ()\n",
      "2022-02-27 00:36:59,844 INFO sqlalchemy.engine.Engine PRAGMA temp.table_info(\"some_table\")\n",
      "2022-02-27 00:36:59,850 INFO sqlalchemy.engine.Engine [raw sql] ()\n",
      "2022-02-27 00:36:59,853 INFO sqlalchemy.engine.Engine ROLLBACK\n"
     ]
    },
    {
     "ename": "NoSuchTableError",
     "evalue": "some_table",
     "output_type": "error",
     "traceback": [
      "\u001b[0;31m---------------------------------------------------------------------------\u001b[0m",
      "\u001b[0;31mNoSuchTableError\u001b[0m                          Traceback (most recent call last)",
      "\u001b[0;32m<ipython-input-32-0ca2e86322b4>\u001b[0m in \u001b[0;36m<module>\u001b[0;34m\u001b[0m\n\u001b[0;32m----> 1\u001b[0;31m \u001b[0msome_table\u001b[0m \u001b[0;34m=\u001b[0m \u001b[0mTable\u001b[0m\u001b[0;34m(\u001b[0m\u001b[0;34m\"some_table\"\u001b[0m\u001b[0;34m,\u001b[0m \u001b[0mmetadata_obj\u001b[0m\u001b[0;34m,\u001b[0m \u001b[0mautoload_with\u001b[0m\u001b[0;34m=\u001b[0m\u001b[0mengine\u001b[0m\u001b[0;34m)\u001b[0m\u001b[0;34m\u001b[0m\u001b[0;34m\u001b[0m\u001b[0m\n\u001b[0m",
      "\u001b[0;32m<string>\u001b[0m in \u001b[0;36m__new__\u001b[0;34m(cls, *args, **kw)\u001b[0m\n",
      "\u001b[0;32m~/anaconda3/lib/python3.7/site-packages/sqlalchemy/util/deprecations.py\u001b[0m in \u001b[0;36mwarned\u001b[0;34m(fn, *args, **kwargs)\u001b[0m\n\u001b[1;32m    307\u001b[0m                         \u001b[0mstacklevel\u001b[0m\u001b[0;34m=\u001b[0m\u001b[0;36m3\u001b[0m\u001b[0;34m,\u001b[0m\u001b[0;34m\u001b[0m\u001b[0;34m\u001b[0m\u001b[0m\n\u001b[1;32m    308\u001b[0m                     )\n\u001b[0;32m--> 309\u001b[0;31m             \u001b[0;32mreturn\u001b[0m \u001b[0mfn\u001b[0m\u001b[0;34m(\u001b[0m\u001b[0;34m*\u001b[0m\u001b[0margs\u001b[0m\u001b[0;34m,\u001b[0m \u001b[0;34m**\u001b[0m\u001b[0mkwargs\u001b[0m\u001b[0;34m)\u001b[0m\u001b[0;34m\u001b[0m\u001b[0;34m\u001b[0m\u001b[0m\n\u001b[0m\u001b[1;32m    310\u001b[0m \u001b[0;34m\u001b[0m\u001b[0m\n\u001b[1;32m    311\u001b[0m         \u001b[0mdoc\u001b[0m \u001b[0;34m=\u001b[0m \u001b[0mfn\u001b[0m\u001b[0;34m.\u001b[0m\u001b[0m__doc__\u001b[0m \u001b[0;32mis\u001b[0m \u001b[0;32mnot\u001b[0m \u001b[0;32mNone\u001b[0m \u001b[0;32mand\u001b[0m \u001b[0mfn\u001b[0m\u001b[0;34m.\u001b[0m\u001b[0m__doc__\u001b[0m \u001b[0;32mor\u001b[0m \u001b[0;34m\"\"\u001b[0m\u001b[0;34m\u001b[0m\u001b[0;34m\u001b[0m\u001b[0m\n",
      "\u001b[0;32m~/anaconda3/lib/python3.7/site-packages/sqlalchemy/sql/schema.py\u001b[0m in \u001b[0;36m__new__\u001b[0;34m(cls, *args, **kw)\u001b[0m\n\u001b[1;32m    605\u001b[0m             \u001b[0;32mexcept\u001b[0m \u001b[0mException\u001b[0m\u001b[0;34m:\u001b[0m\u001b[0;34m\u001b[0m\u001b[0;34m\u001b[0m\u001b[0m\n\u001b[1;32m    606\u001b[0m                 \u001b[0;32mwith\u001b[0m \u001b[0mutil\u001b[0m\u001b[0;34m.\u001b[0m\u001b[0msafe_reraise\u001b[0m\u001b[0;34m(\u001b[0m\u001b[0;34m)\u001b[0m\u001b[0;34m:\u001b[0m\u001b[0;34m\u001b[0m\u001b[0;34m\u001b[0m\u001b[0m\n\u001b[0;32m--> 607\u001b[0;31m                     \u001b[0mmetadata\u001b[0m\u001b[0;34m.\u001b[0m\u001b[0m_remove_table\u001b[0m\u001b[0;34m(\u001b[0m\u001b[0mname\u001b[0m\u001b[0;34m,\u001b[0m \u001b[0mschema\u001b[0m\u001b[0;34m)\u001b[0m\u001b[0;34m\u001b[0m\u001b[0;34m\u001b[0m\u001b[0m\n\u001b[0m\u001b[1;32m    608\u001b[0m \u001b[0;34m\u001b[0m\u001b[0m\n\u001b[1;32m    609\u001b[0m     \u001b[0;32mdef\u001b[0m \u001b[0m__init__\u001b[0m\u001b[0;34m(\u001b[0m\u001b[0mself\u001b[0m\u001b[0;34m,\u001b[0m \u001b[0;34m*\u001b[0m\u001b[0margs\u001b[0m\u001b[0;34m,\u001b[0m \u001b[0;34m**\u001b[0m\u001b[0mkw\u001b[0m\u001b[0;34m)\u001b[0m\u001b[0;34m:\u001b[0m\u001b[0;34m\u001b[0m\u001b[0;34m\u001b[0m\u001b[0m\n",
      "\u001b[0;32m~/anaconda3/lib/python3.7/site-packages/sqlalchemy/util/langhelpers.py\u001b[0m in \u001b[0;36m__exit__\u001b[0;34m(self, type_, value, traceback)\u001b[0m\n\u001b[1;32m     70\u001b[0m                 compat.raise_(\n\u001b[1;32m     71\u001b[0m                     \u001b[0mexc_value\u001b[0m\u001b[0;34m,\u001b[0m\u001b[0;34m\u001b[0m\u001b[0;34m\u001b[0m\u001b[0m\n\u001b[0;32m---> 72\u001b[0;31m                     \u001b[0mwith_traceback\u001b[0m\u001b[0;34m=\u001b[0m\u001b[0mexc_tb\u001b[0m\u001b[0;34m,\u001b[0m\u001b[0;34m\u001b[0m\u001b[0;34m\u001b[0m\u001b[0m\n\u001b[0m\u001b[1;32m     73\u001b[0m                 )\n\u001b[1;32m     74\u001b[0m         \u001b[0;32melse\u001b[0m\u001b[0;34m:\u001b[0m\u001b[0;34m\u001b[0m\u001b[0;34m\u001b[0m\u001b[0m\n",
      "\u001b[0;32m~/anaconda3/lib/python3.7/site-packages/sqlalchemy/util/compat.py\u001b[0m in \u001b[0;36mraise_\u001b[0;34m(***failed resolving arguments***)\u001b[0m\n\u001b[1;32m    205\u001b[0m \u001b[0;34m\u001b[0m\u001b[0m\n\u001b[1;32m    206\u001b[0m         \u001b[0;32mtry\u001b[0m\u001b[0;34m:\u001b[0m\u001b[0;34m\u001b[0m\u001b[0;34m\u001b[0m\u001b[0m\n\u001b[0;32m--> 207\u001b[0;31m             \u001b[0;32mraise\u001b[0m \u001b[0mexception\u001b[0m\u001b[0;34m\u001b[0m\u001b[0;34m\u001b[0m\u001b[0m\n\u001b[0m\u001b[1;32m    208\u001b[0m         \u001b[0;32mfinally\u001b[0m\u001b[0;34m:\u001b[0m\u001b[0;34m\u001b[0m\u001b[0;34m\u001b[0m\u001b[0m\n\u001b[1;32m    209\u001b[0m             \u001b[0;31m# credit to\u001b[0m\u001b[0;34m\u001b[0m\u001b[0;34m\u001b[0m\u001b[0;34m\u001b[0m\u001b[0m\n",
      "\u001b[0;32m~/anaconda3/lib/python3.7/site-packages/sqlalchemy/sql/schema.py\u001b[0m in \u001b[0;36m__new__\u001b[0;34m(cls, *args, **kw)\u001b[0m\n\u001b[1;32m    600\u001b[0m             \u001b[0mmetadata\u001b[0m\u001b[0;34m.\u001b[0m\u001b[0m_add_table\u001b[0m\u001b[0;34m(\u001b[0m\u001b[0mname\u001b[0m\u001b[0;34m,\u001b[0m \u001b[0mschema\u001b[0m\u001b[0;34m,\u001b[0m \u001b[0mtable\u001b[0m\u001b[0;34m)\u001b[0m\u001b[0;34m\u001b[0m\u001b[0;34m\u001b[0m\u001b[0m\n\u001b[1;32m    601\u001b[0m             \u001b[0;32mtry\u001b[0m\u001b[0;34m:\u001b[0m\u001b[0;34m\u001b[0m\u001b[0;34m\u001b[0m\u001b[0m\n\u001b[0;32m--> 602\u001b[0;31m                 \u001b[0mtable\u001b[0m\u001b[0;34m.\u001b[0m\u001b[0m_init\u001b[0m\u001b[0;34m(\u001b[0m\u001b[0mname\u001b[0m\u001b[0;34m,\u001b[0m \u001b[0mmetadata\u001b[0m\u001b[0;34m,\u001b[0m \u001b[0;34m*\u001b[0m\u001b[0margs\u001b[0m\u001b[0;34m,\u001b[0m \u001b[0;34m**\u001b[0m\u001b[0mkw\u001b[0m\u001b[0;34m)\u001b[0m\u001b[0;34m\u001b[0m\u001b[0;34m\u001b[0m\u001b[0m\n\u001b[0m\u001b[1;32m    603\u001b[0m                 \u001b[0mtable\u001b[0m\u001b[0;34m.\u001b[0m\u001b[0mdispatch\u001b[0m\u001b[0;34m.\u001b[0m\u001b[0mafter_parent_attach\u001b[0m\u001b[0;34m(\u001b[0m\u001b[0mtable\u001b[0m\u001b[0;34m,\u001b[0m \u001b[0mmetadata\u001b[0m\u001b[0;34m)\u001b[0m\u001b[0;34m\u001b[0m\u001b[0;34m\u001b[0m\u001b[0m\n\u001b[1;32m    604\u001b[0m                 \u001b[0;32mreturn\u001b[0m \u001b[0mtable\u001b[0m\u001b[0;34m\u001b[0m\u001b[0;34m\u001b[0m\u001b[0m\n",
      "\u001b[0;32m~/anaconda3/lib/python3.7/site-packages/sqlalchemy/sql/schema.py\u001b[0m in \u001b[0;36m_init\u001b[0;34m(self, name, metadata, *args, **kwargs)\u001b[0m\n\u001b[1;32m    680\u001b[0m                 \u001b[0minclude_columns\u001b[0m\u001b[0;34m,\u001b[0m\u001b[0;34m\u001b[0m\u001b[0;34m\u001b[0m\u001b[0m\n\u001b[1;32m    681\u001b[0m                 \u001b[0m_extend_on\u001b[0m\u001b[0;34m=\u001b[0m\u001b[0m_extend_on\u001b[0m\u001b[0;34m,\u001b[0m\u001b[0;34m\u001b[0m\u001b[0;34m\u001b[0m\u001b[0m\n\u001b[0;32m--> 682\u001b[0;31m                 \u001b[0mresolve_fks\u001b[0m\u001b[0;34m=\u001b[0m\u001b[0mresolve_fks\u001b[0m\u001b[0;34m,\u001b[0m\u001b[0;34m\u001b[0m\u001b[0;34m\u001b[0m\u001b[0m\n\u001b[0m\u001b[1;32m    683\u001b[0m             )\n\u001b[1;32m    684\u001b[0m \u001b[0;34m\u001b[0m\u001b[0m\n",
      "\u001b[0;32m~/anaconda3/lib/python3.7/site-packages/sqlalchemy/sql/schema.py\u001b[0m in \u001b[0;36m_autoload\u001b[0;34m(self, metadata, autoload_with, include_columns, exclude_columns, resolve_fks, _extend_on)\u001b[0m\n\u001b[1;32m    715\u001b[0m                 \u001b[0mexclude_columns\u001b[0m\u001b[0;34m,\u001b[0m\u001b[0;34m\u001b[0m\u001b[0;34m\u001b[0m\u001b[0m\n\u001b[1;32m    716\u001b[0m                 \u001b[0mresolve_fks\u001b[0m\u001b[0;34m,\u001b[0m\u001b[0;34m\u001b[0m\u001b[0;34m\u001b[0m\u001b[0m\n\u001b[0;32m--> 717\u001b[0;31m                 \u001b[0m_extend_on\u001b[0m\u001b[0;34m=\u001b[0m\u001b[0m_extend_on\u001b[0m\u001b[0;34m,\u001b[0m\u001b[0;34m\u001b[0m\u001b[0;34m\u001b[0m\u001b[0m\n\u001b[0m\u001b[1;32m    718\u001b[0m             )\n\u001b[1;32m    719\u001b[0m \u001b[0;34m\u001b[0m\u001b[0m\n",
      "\u001b[0;32m~/anaconda3/lib/python3.7/site-packages/sqlalchemy/engine/reflection.py\u001b[0m in \u001b[0;36mreflect_table\u001b[0;34m(self, table, include_columns, exclude_columns, resolve_fks, _extend_on)\u001b[0m\n\u001b[1;32m    787\u001b[0m         \u001b[0;31m# NOTE: support tables/views with no columns\u001b[0m\u001b[0;34m\u001b[0m\u001b[0;34m\u001b[0m\u001b[0;34m\u001b[0m\u001b[0m\n\u001b[1;32m    788\u001b[0m         \u001b[0;32mif\u001b[0m \u001b[0;32mnot\u001b[0m \u001b[0mfound_table\u001b[0m \u001b[0;32mand\u001b[0m \u001b[0;32mnot\u001b[0m \u001b[0mself\u001b[0m\u001b[0;34m.\u001b[0m\u001b[0mhas_table\u001b[0m\u001b[0;34m(\u001b[0m\u001b[0mtable_name\u001b[0m\u001b[0;34m,\u001b[0m \u001b[0mschema\u001b[0m\u001b[0;34m)\u001b[0m\u001b[0;34m:\u001b[0m\u001b[0;34m\u001b[0m\u001b[0;34m\u001b[0m\u001b[0m\n\u001b[0;32m--> 789\u001b[0;31m             \u001b[0;32mraise\u001b[0m \u001b[0mexc\u001b[0m\u001b[0;34m.\u001b[0m\u001b[0mNoSuchTableError\u001b[0m\u001b[0;34m(\u001b[0m\u001b[0mtable_name\u001b[0m\u001b[0;34m)\u001b[0m\u001b[0;34m\u001b[0m\u001b[0;34m\u001b[0m\u001b[0m\n\u001b[0m\u001b[1;32m    790\u001b[0m \u001b[0;34m\u001b[0m\u001b[0m\n\u001b[1;32m    791\u001b[0m         self._reflect_pk(\n",
      "\u001b[0;31mNoSuchTableError\u001b[0m: some_table"
     ]
    }
   ],
   "source": [
    "some_table = Table(\"some_table\", metadata_obj, autoload_with=engine)"
   ]
  },
  {
   "cell_type": "code",
   "execution_count": null,
   "id": "59ed0764-ce23-43dc-b728-0ffbc4f2a691",
   "metadata": {},
   "outputs": [],
   "source": [
    " "
   ]
  }
 ],
 "metadata": {
  "kernelspec": {
   "display_name": "Python 3",
   "language": "python",
   "name": "python3"
  },
  "language_info": {
   "codemirror_mode": {
    "name": "ipython",
    "version": 3
   },
   "file_extension": ".py",
   "mimetype": "text/x-python",
   "name": "python",
   "nbconvert_exporter": "python",
   "pygments_lexer": "ipython3",
   "version": "3.6.9"
  }
 },
 "nbformat": 4,
 "nbformat_minor": 5
}
