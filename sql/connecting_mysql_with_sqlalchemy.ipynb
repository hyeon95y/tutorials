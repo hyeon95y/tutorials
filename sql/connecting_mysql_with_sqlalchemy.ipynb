{
 "cells": [
  {
   "cell_type": "markdown",
   "id": "346a844e-3a67-4387-ab2b-c34c4c48a149",
   "metadata": {},
   "source": [
    "# Connect to MySQL DB with sqlalchemy\n",
    "## with basic tutorial of sqlachemy\n",
    "\n",
    "## References\n",
    "- [Getting Started with SQLAlchemy](https://medium.com/geekculture/getting-started-with-sqlalchemy-d132d04c940)\n",
    "- [Generating Random Data into a Database Using Python](https://towardsdatascience.com/generating-random-data-into-a-database-using-python-fd2f7d54024e)\n",
    "- [SQLAlchemy — Python Tutorial](https://towardsdatascience.com/sqlalchemy-python-tutorial-79a577141a91)"
   ]
  },
  {
   "cell_type": "markdown",
   "id": "154c45e4-845d-4465-a302-3f454ef5554d",
   "metadata": {},
   "source": [
    "# Load packages"
   ]
  },
  {
   "cell_type": "code",
   "execution_count": 1,
   "id": "acbd9e66-d3b0-4c47-b718-021de123e2ca",
   "metadata": {},
   "outputs": [],
   "source": [
    "%load_ext lab_black"
   ]
  },
  {
   "cell_type": "code",
   "execution_count": 2,
   "id": "b73d6f9e-d455-4562-a876-7ffaf3ee3a08",
   "metadata": {},
   "outputs": [],
   "source": [
    "import pandas as pd\n",
    "from faker import Faker\n",
    "from collections import defaultdict\n",
    "import sqlalchemy as db\n",
    "import pymysql\n",
    "from _secrets import PASSWORD"
   ]
  },
  {
   "cell_type": "markdown",
   "id": "aca6a8de-d2eb-4ea3-9a5a-5102fbf4b900",
   "metadata": {},
   "source": [
    "# Connect MySQL DB"
   ]
  },
  {
   "cell_type": "code",
   "execution_count": 3,
   "id": "6a41eea0-20e2-43a8-a366-0c6e56e19826",
   "metadata": {},
   "outputs": [],
   "source": [
    "IP = \"localhost\"\n",
    "DB_NAME = \"testdb\"\n",
    "USER = \"root\"\n",
    "db_url = f\"mysql+pymysql://{USER}:{PASSWORD}@{IP}/{DB_NAME}\"\n",
    "engine = db.create_engine(db_url)"
   ]
  },
  {
   "cell_type": "code",
   "execution_count": 4,
   "id": "04b17569-ee9a-4f22-bba9-e08b473464e3",
   "metadata": {},
   "outputs": [
    {
     "name": "stdout",
     "output_type": "stream",
     "text": [
      "['test_table', 'user']\n"
     ]
    },
    {
     "name": "stderr",
     "output_type": "stream",
     "text": [
      "/home/ubuntu/.local/lib/python3.6/site-packages/ipykernel_launcher.py:2: SADeprecationWarning: The Engine.table_names() method is deprecated and will be removed in a future release.  Please refer to Inspector.get_table_names(). (deprecated since: 1.4)\n",
      "  \n"
     ]
    }
   ],
   "source": [
    "connection = engine.connect()\n",
    "print(engine.table_names())"
   ]
  },
  {
   "cell_type": "markdown",
   "id": "a40e6f6d-f0e7-4eb1-a1b7-3bea41af903e",
   "metadata": {},
   "source": [
    "# Generate dummy data & inject"
   ]
  },
  {
   "cell_type": "code",
   "execution_count": 5,
   "id": "db89613b-701b-4b6b-aa3d-beb214a5405a",
   "metadata": {},
   "outputs": [],
   "source": [
    "fake = Faker()"
   ]
  },
  {
   "cell_type": "code",
   "execution_count": 6,
   "id": "a399cd2b-04e8-49ba-b6ce-b1450005f233",
   "metadata": {},
   "outputs": [],
   "source": [
    "fake_data = defaultdict(list)\n",
    "for _ in range(1000):\n",
    "    fake_data[\"first_name\"].append(fake.first_name())\n",
    "    fake_data[\"last_name\"].append(fake.last_name())\n",
    "    fake_data[\"occupation\"].append(fake.job())\n",
    "    fake_data[\"dob\"].append(fake.date_of_birth())\n",
    "    fake_data[\"country\"].append(fake.country())\n",
    "df_fake_data = pd.DataFrame(fake_data)"
   ]
  },
  {
   "cell_type": "code",
   "execution_count": 7,
   "id": "7feb1170-7ca9-4825-80d9-a5ecc57ae8bf",
   "metadata": {},
   "outputs": [],
   "source": [
    "# Drop if table already exists\n",
    "query = \"DROP TABLE IF EXISTS user\"\n",
    "engine.execute(query)\n",
    "\n",
    "# IF not, inject\n",
    "df_fake_data.to_sql(\"user\", con=engine, index=False)"
   ]
  },
  {
   "cell_type": "markdown",
   "id": "6fcce2db-5570-40b8-aa24-5ed19042f7d7",
   "metadata": {},
   "source": [
    "# Fetch data from DB"
   ]
  },
  {
   "cell_type": "code",
   "execution_count": 8,
   "id": "8de37803-30e4-4702-bae0-2ab6e8df8764",
   "metadata": {},
   "outputs": [],
   "source": [
    "metadata = db.MetaData()\n",
    "user = db.Table(\"user\", metadata, autoload=True, autoload_with=engine)\n",
    "query = db.select(user)"
   ]
  },
  {
   "cell_type": "code",
   "execution_count": 9,
   "id": "ee0b8d08-bd71-4a0c-95a2-b98241c8b90e",
   "metadata": {},
   "outputs": [
    {
     "data": {
      "text/plain": [
       "[('John', 'Peck', 'Mechanical engineer', datetime.date(1959, 10, 10), 'Ecuador'),\n",
       " ('Daniel', 'Harper', 'Producer, radio', datetime.date(1975, 7, 5), 'Wallis and Futuna'),\n",
       " ('Michelle', 'Berry', 'Herpetologist', datetime.date(1951, 4, 8), 'Hong Kong'),\n",
       " ('Mary', 'Murphy', 'Biochemist, clinical', datetime.date(1993, 3, 9), 'Georgia'),\n",
       " ('Michael', 'Schmidt', 'Occupational therapist', datetime.date(2019, 3, 6), 'Rwanda')]"
      ]
     },
     "execution_count": 9,
     "metadata": {},
     "output_type": "execute_result"
    }
   ],
   "source": [
    "result_proxy = connection.execute(query)\n",
    "result_set = result_proxy.fetchall()\n",
    "result_set[:5]"
   ]
  },
  {
   "cell_type": "markdown",
   "id": "f5db438c-de33-426e-b7b6-e9f35bb87571",
   "metadata": {},
   "source": [
    "# View table details"
   ]
  },
  {
   "cell_type": "code",
   "execution_count": 10,
   "id": "70f561aa-e88e-4952-ba44-27ac16add9bf",
   "metadata": {},
   "outputs": [
    {
     "data": {
      "text/plain": [
       "['first_name', 'last_name', 'occupation', 'dob', 'country']"
      ]
     },
     "execution_count": 10,
     "metadata": {},
     "output_type": "execute_result"
    }
   ],
   "source": [
    "user.columns.keys()"
   ]
  },
  {
   "cell_type": "code",
   "execution_count": 11,
   "id": "52b69cc6-713b-4273-a29c-74d00ffa6048",
   "metadata": {},
   "outputs": [
    {
     "data": {
      "text/plain": [
       "\"Table('user', MetaData(), Column('first_name', TEXT(), table=<user>), Column('last_name', TEXT(), table=<user>), Column('occupation', TEXT(), table=<user>), Column('dob', DATE(), table=<user>), Column('country', TEXT(), table=<user>), schema=None)\""
      ]
     },
     "execution_count": 11,
     "metadata": {},
     "output_type": "execute_result"
    }
   ],
   "source": [
    "repr(metadata.tables[\"user\"])"
   ]
  },
  {
   "cell_type": "markdown",
   "id": "1ae46dce-63b3-4968-9db7-c71ad03ec433",
   "metadata": {},
   "source": [
    "# Write query"
   ]
  },
  {
   "cell_type": "markdown",
   "id": "c0bcf8b2-c85d-4369-a078-33a38dcc4aca",
   "metadata": {},
   "source": [
    "## where"
   ]
  },
  {
   "cell_type": "code",
   "execution_count": 12,
   "id": "bdb76ad8-a2f0-4f05-a01b-4f8448e0e8b3",
   "metadata": {},
   "outputs": [
    {
     "data": {
      "text/plain": [
       "[]"
      ]
     },
     "execution_count": 12,
     "metadata": {},
     "output_type": "execute_result"
    }
   ],
   "source": [
    "query = db.select([user]).where(user.columns.country == \"Jamaica\")\n",
    "result_proxy = connection.execute(query)\n",
    "result_set = result_proxy.fetchall()\n",
    "result_set[:5]"
   ]
  },
  {
   "cell_type": "markdown",
   "id": "bb01b0bc-d33a-4d40-b201-5c553859976a",
   "metadata": {},
   "source": [
    "## in"
   ]
  },
  {
   "cell_type": "code",
   "execution_count": 13,
   "id": "99290448-d125-43aa-867a-eb97a4a6dabf",
   "metadata": {},
   "outputs": [
    {
     "data": {
      "text/plain": [
       "[('Alicia', 'Mongolia'),\n",
       " ('Thomas', 'Mongolia'),\n",
       " ('Tammy', 'Mongolia'),\n",
       " ('Kathy', 'Mongolia'),\n",
       " ('Robert', 'Mongolia')]"
      ]
     },
     "execution_count": 13,
     "metadata": {},
     "output_type": "execute_result"
    }
   ],
   "source": [
    "query = db.select([user.columns.first_name, user.columns.country]).where(\n",
    "    user.columns.country.in_([\"Jamaica\", \"Mongolia\"])\n",
    ")\n",
    "result_proxy = connection.execute(query)\n",
    "result_set = result_proxy.fetchall()\n",
    "result_set[:5]"
   ]
  },
  {
   "cell_type": "markdown",
   "id": "b1d0f355-1747-44a1-83c7-2376394817a3",
   "metadata": {},
   "source": [
    "## and, or, not"
   ]
  },
  {
   "cell_type": "code",
   "execution_count": 14,
   "id": "292db129-f5cb-4b2f-8055-dbdad0ae40ee",
   "metadata": {},
   "outputs": [
    {
     "data": {
      "text/plain": [
       "[('Alicia', 'Mongolia'),\n",
       " ('Thomas', 'Mongolia'),\n",
       " ('Tammy', 'Mongolia'),\n",
       " ('Kathy', 'Mongolia'),\n",
       " ('Robert', 'Mongolia')]"
      ]
     },
     "execution_count": 14,
     "metadata": {},
     "output_type": "execute_result"
    }
   ],
   "source": [
    "query = db.select([user.columns.first_name, user.columns.country]).where(\n",
    "    user.columns.country.in_([\"Jamaica\", \"Mongolia\"]), user.columns.first_name != \"Tony\"\n",
    ")\n",
    "result_proxy = connection.execute(query)\n",
    "result_set = result_proxy.fetchall()\n",
    "result_set[:5]"
   ]
  },
  {
   "cell_type": "markdown",
   "id": "4203ba02-c9ef-4f30-a6ec-37ecbedda0d9",
   "metadata": {},
   "source": [
    "## order by"
   ]
  },
  {
   "cell_type": "code",
   "execution_count": 15,
   "id": "4921b148-1e19-4e99-aa22-9f7c57dffbbf",
   "metadata": {},
   "outputs": [
    {
     "data": {
      "text/plain": [
       "[('Amy', 'Garcia', 'Biomedical engineer', datetime.date(2022, 2, 15), 'China'),\n",
       " ('Stephanie', 'Carrillo', 'Computer games developer', datetime.date(2022, 2, 2), 'Zambia'),\n",
       " ('Jennifer', 'Garcia', 'Financial planner', datetime.date(2021, 8, 11), 'Tuvalu'),\n",
       " ('Marie', 'Moore', 'Runner, broadcasting/film/video', datetime.date(2021, 5, 29), 'Malta'),\n",
       " ('David', 'White', 'Designer, industrial/product', datetime.date(2021, 1, 26), 'Hong Kong')]"
      ]
     },
     "execution_count": 15,
     "metadata": {},
     "output_type": "execute_result"
    }
   ],
   "source": [
    "query = db.select([user]).order_by(db.desc(user.columns.dob))\n",
    "result_proxy = connection.execute(query)\n",
    "result_set = result_proxy.fetchall()\n",
    "result_set[:5]"
   ]
  },
  {
   "cell_type": "markdown",
   "id": "5a36b996-9a59-4568-b849-0959628da54c",
   "metadata": {},
   "source": [
    "## functions"
   ]
  },
  {
   "cell_type": "code",
   "execution_count": 16,
   "id": "c0eacc1d-ef9d-4bba-96d0-695c1fca6c79",
   "metadata": {},
   "outputs": [
    {
     "data": {
      "text/plain": [
       "[(1000,)]"
      ]
     },
     "execution_count": 16,
     "metadata": {},
     "output_type": "execute_result"
    }
   ],
   "source": [
    "query = db.select([db.func.count(user.columns.dob)])\n",
    "result_proxy = connection.execute(query)\n",
    "result_set = result_proxy.fetchall()\n",
    "result_set[:5]"
   ]
  },
  {
   "cell_type": "markdown",
   "id": "1ca94802-e105-4ee6-b562-6141a6bbc3f2",
   "metadata": {},
   "source": [
    "## group by"
   ]
  },
  {
   "cell_type": "code",
   "execution_count": 17,
   "id": "65307f30-5ee2-44e2-948f-28013d4df543",
   "metadata": {},
   "outputs": [
    {
     "data": {
      "text/plain": [
       "[(4,), (2,), (3,), (6,), (8,)]"
      ]
     },
     "execution_count": 17,
     "metadata": {},
     "output_type": "execute_result"
    }
   ],
   "source": [
    "query = db.select([db.func.count(user.columns.country)]).group_by(user.columns.country)\n",
    "result_proxy = connection.execute(query)\n",
    "result_set = result_proxy.fetchall()\n",
    "result_set[:5]"
   ]
  },
  {
   "cell_type": "markdown",
   "id": "4e98cd3d-7e1c-43de-aa44-d06eea3a6f11",
   "metadata": {},
   "source": [
    "## distinct\n",
    "> The SQL DISTINCT clause is used to remove duplicates from the result set of a SELECT statement."
   ]
  },
  {
   "cell_type": "code",
   "execution_count": 18,
   "id": "cc92932e-44f2-4472-8afc-e38db4ecf44a",
   "metadata": {},
   "outputs": [
    {
     "data": {
      "text/plain": [
       "[('Ecuador',),\n",
       " ('Wallis and Futuna',),\n",
       " ('Hong Kong',),\n",
       " ('Georgia',),\n",
       " ('Rwanda',)]"
      ]
     },
     "execution_count": 18,
     "metadata": {},
     "output_type": "execute_result"
    }
   ],
   "source": [
    "query = db.select([user.columns.country.distinct()])\n",
    "result_proxy = connection.execute(query)\n",
    "result_set = result_proxy.fetchall()\n",
    "result_set[:5]"
   ]
  },
  {
   "cell_type": "markdown",
   "id": "8c0e58f0-9ee8-4b0c-b0a5-70191f410ba2",
   "metadata": {},
   "source": [
    "# case & cast"
   ]
  },
  {
   "cell_type": "code",
   "execution_count": 19,
   "id": "7f32870d-0f01-4183-bb3d-1e6d447b4ed3",
   "metadata": {},
   "outputs": [
    {
     "data": {
      "text/plain": [
       "\"\\nfemale_pop = db.func.sum(db.case([(census.columns.sex == 'F', census.columns.pop2000)],else_=0))\\ntotal_pop = db.cast(db.func.sum(census.columns.pop2000), db.Float)\\n\\nquery = db.select([female_pop/total_pop * 100])\\nresult = connection.execute(query).scalar()\\nprint(result)\\n\""
      ]
     },
     "execution_count": 19,
     "metadata": {},
     "output_type": "execute_result"
    }
   ],
   "source": [
    "\"\"\"\n",
    "female_pop = db.func.sum(db.case([(census.columns.sex == 'F', census.columns.pop2000)],else_=0))\n",
    "total_pop = db.cast(db.func.sum(census.columns.pop2000), db.Float)\n",
    "\n",
    "query = db.select([female_pop/total_pop * 100])\n",
    "result = connection.execute(query).scalar()\n",
    "print(result)\n",
    "\"\"\""
   ]
  }
 ],
 "metadata": {
  "kernelspec": {
   "display_name": "Python 3",
   "language": "python",
   "name": "python3"
  },
  "language_info": {
   "codemirror_mode": {
    "name": "ipython",
    "version": 3
   },
   "file_extension": ".py",
   "mimetype": "text/x-python",
   "name": "python",
   "nbconvert_exporter": "python",
   "pygments_lexer": "ipython3",
   "version": "3.6.9"
  }
 },
 "nbformat": 4,
 "nbformat_minor": 5
}
