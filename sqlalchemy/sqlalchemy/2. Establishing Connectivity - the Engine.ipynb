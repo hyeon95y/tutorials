{
 "cells": [
  {
   "cell_type": "markdown",
   "id": "eb29af19-d8b7-413f-b48f-2773f02f4b5f",
   "metadata": {},
   "source": [
    "# SQLALchemy 1.4 / 2.0 Tutorial\n",
    "- [Establishing Connectivity - the Engine](https://docs.sqlalchemy.org/en/14/tutorial/engine.html)\n",
    "- [Working with Transactions and the DBAPI](https://docs.sqlalchemy.org/en/14/tutorial/dbapi_transactions.html)"
   ]
  },
  {
   "cell_type": "code",
   "execution_count": 1,
   "id": "acf2e8a0-cf4a-4cae-9613-4af98083ee3f",
   "metadata": {},
   "outputs": [],
   "source": [
    "from sqlalchemy import create_engine\n",
    "engine = create_engine(\"sqlite+pysqlite:///:memory:\", echo=True, future=True)"
   ]
  },
  {
   "cell_type": "code",
   "execution_count": 2,
   "id": "b7c3d156-2a37-42d7-a5b3-325985db7bfa",
   "metadata": {},
   "outputs": [
    {
     "name": "stdout",
     "output_type": "stream",
     "text": [
      "2022-02-24 18:02:18,030 INFO sqlalchemy.engine.Engine BEGIN (implicit)\n",
      "2022-02-24 18:02:18,038 INFO sqlalchemy.engine.Engine select 'hello world'\n",
      "2022-02-24 18:02:18,040 INFO sqlalchemy.engine.Engine [generated in 0.00981s] ()\n",
      "<sqlalchemy.engine.cursor.CursorResult object at 0x7fe71851ef10>\n",
      "[('hello world',)]\n",
      "2022-02-24 18:02:18,043 INFO sqlalchemy.engine.Engine ROLLBACK\n"
     ]
    }
   ],
   "source": [
    "from sqlalchemy import text\n",
    "\n",
    "with engine.connect() as conn :\n",
    "    result = conn.execute(text(\"select 'hello world'\"))\n",
    "    print(result)\n",
    "    print(result.all())"
   ]
  },
  {
   "cell_type": "code",
   "execution_count": 3,
   "id": "6ddf04d1-fec4-4fde-aff2-88f36be1ee93",
   "metadata": {},
   "outputs": [
    {
     "name": "stdout",
     "output_type": "stream",
     "text": [
      "2022-02-24 18:02:18,083 INFO sqlalchemy.engine.Engine BEGIN (implicit)\n",
      "2022-02-24 18:02:18,094 INFO sqlalchemy.engine.Engine CREATE TABLE some_table (x int, y int)\n",
      "2022-02-24 18:02:18,110 INFO sqlalchemy.engine.Engine [generated in 0.02715s] ()\n",
      "2022-02-24 18:02:18,117 INFO sqlalchemy.engine.Engine INSERT INTO some_table (x, y) VALUES (?, ?)\n",
      "2022-02-24 18:02:18,121 INFO sqlalchemy.engine.Engine [generated in 0.00414s] ((1, 1), (2, 4))\n",
      "2022-02-24 18:02:18,125 INFO sqlalchemy.engine.Engine COMMIT\n"
     ]
    }
   ],
   "source": [
    "with engine.connect() as conn:\n",
    "    conn.execute(text(\"CREATE TABLE some_table (x int, y int)\"))\n",
    "    conn.execute(\n",
    "        text(\"INSERT INTO some_table (x, y) VALUES (:x, :y)\"),\n",
    "        [{\"x\": 1, \"y\": 1}, {\"x\": 2, \"y\": 4}]\n",
    "    )\n",
    "    conn.commit()"
   ]
  },
  {
   "cell_type": "code",
   "execution_count": 4,
   "id": "efaf6d3f-490e-43fa-bc2b-b7b7a9958976",
   "metadata": {},
   "outputs": [
    {
     "name": "stdout",
     "output_type": "stream",
     "text": [
      "2022-02-24 18:02:18,161 INFO sqlalchemy.engine.Engine BEGIN (implicit)\n",
      "2022-02-24 18:02:18,167 INFO sqlalchemy.engine.Engine INSERT INTO some_table (x, y) VALUES (?, ?)\n",
      "2022-02-24 18:02:18,180 INFO sqlalchemy.engine.Engine [cached since 0.06309s ago] ((6, 8), (9, 10))\n",
      "2022-02-24 18:02:18,219 INFO sqlalchemy.engine.Engine COMMIT\n"
     ]
    }
   ],
   "source": [
    "with engine.begin() as conn:\n",
    "    conn.execute(\n",
    "        text(\"INSERT INTO some_table (x, y) VALUES (:x, :y)\"),\n",
    "        [{\"x\": 6, \"y\": 8}, {\"x\": 9, \"y\": 10}]\n",
    "    )"
   ]
  },
  {
   "cell_type": "code",
   "execution_count": 5,
   "id": "42084317-a5cd-4803-8c6f-939558cb4feb",
   "metadata": {},
   "outputs": [
    {
     "name": "stdout",
     "output_type": "stream",
     "text": [
      "2022-02-24 18:02:18,232 INFO sqlalchemy.engine.Engine BEGIN (implicit)\n",
      "2022-02-24 18:02:18,240 INFO sqlalchemy.engine.Engine SELECT x, y FROM some_table\n",
      "2022-02-24 18:02:18,243 INFO sqlalchemy.engine.Engine [generated in 0.01060s] ()\n",
      "x: 1  y: 1\n",
      "x: 2  y: 4\n",
      "x: 6  y: 8\n",
      "x: 9  y: 10\n",
      "2022-02-24 18:02:18,249 INFO sqlalchemy.engine.Engine ROLLBACK\n"
     ]
    }
   ],
   "source": [
    "with engine.connect() as conn:\n",
    "    result = conn.execute(text(\"SELECT x, y FROM some_table\"))\n",
    "    for row in result:\n",
    "        print(f\"x: {row.x}  y: {row.y}\")"
   ]
  },
  {
   "cell_type": "code",
   "execution_count": 6,
   "id": "c0d700e6-545b-42d6-bb51-ab1e3caae816",
   "metadata": {},
   "outputs": [
    {
     "name": "stdout",
     "output_type": "stream",
     "text": [
      "2022-02-24 18:02:18,286 INFO sqlalchemy.engine.Engine BEGIN (implicit)\n",
      "2022-02-24 18:02:18,292 INFO sqlalchemy.engine.Engine SELECT x, y FROM some_table\n",
      "2022-02-24 18:02:18,296 INFO sqlalchemy.engine.Engine [cached since 0.06374s ago] ()\n",
      "x: 1  y: 1\n",
      "x: 2  y: 4\n",
      "x: 6  y: 8\n",
      "x: 9  y: 10\n",
      "2022-02-24 18:02:18,308 INFO sqlalchemy.engine.Engine ROLLBACK\n"
     ]
    }
   ],
   "source": [
    "with engine.connect() as conn:\n",
    "    result = conn.execute(text(\"SELECT x, y FROM some_table\"))\n",
    "    for row in result:\n",
    "        x = row[0]\n",
    "        y = row[1]\n",
    "        print(f\"x: {x}  y: {y}\")"
   ]
  },
  {
   "cell_type": "code",
   "execution_count": 7,
   "id": "575519eb-89f1-42b1-befe-202ae4e59c37",
   "metadata": {},
   "outputs": [
    {
     "name": "stdout",
     "output_type": "stream",
     "text": [
      "2022-02-24 18:02:18,347 INFO sqlalchemy.engine.Engine BEGIN (implicit)\n",
      "2022-02-24 18:02:18,349 INFO sqlalchemy.engine.Engine SELECT x, y FROM some_table\n",
      "2022-02-24 18:02:18,362 INFO sqlalchemy.engine.Engine [cached since 0.129s ago] ()\n",
      "x: 1  y: 1\n",
      "x: 2  y: 4\n",
      "x: 6  y: 8\n",
      "x: 9  y: 10\n",
      "2022-02-24 18:02:18,374 INFO sqlalchemy.engine.Engine ROLLBACK\n"
     ]
    }
   ],
   "source": [
    "with engine.connect() as conn:\n",
    "    result = conn.execute(text(\"SELECT x, y FROM some_table\"))\n",
    "    for x, y in result:\n",
    "        print(f\"x: {x}  y: {y}\")"
   ]
  },
  {
   "cell_type": "code",
   "execution_count": 8,
   "id": "03d31ad5-8d83-4569-a23b-a7c9c1f60928",
   "metadata": {},
   "outputs": [
    {
     "name": "stdout",
     "output_type": "stream",
     "text": [
      "2022-02-24 18:02:18,430 INFO sqlalchemy.engine.Engine BEGIN (implicit)\n",
      "2022-02-24 18:02:18,435 INFO sqlalchemy.engine.Engine SELECT x, y FROM some_table\n",
      "2022-02-24 18:02:18,443 INFO sqlalchemy.engine.Engine [cached since 0.2105s ago] ()\n",
      "x: 1  y: 1\n",
      "x: 2  y: 4\n",
      "x: 6  y: 8\n",
      "x: 9  y: 10\n",
      "2022-02-24 18:02:18,453 INFO sqlalchemy.engine.Engine ROLLBACK\n"
     ]
    }
   ],
   "source": [
    "with engine.connect() as conn:\n",
    "    result = conn.execute(text(\"SELECT x, y FROM some_table\"))\n",
    "\n",
    "    for dict_row in result.mappings():\n",
    "        x = dict_row['x']\n",
    "        y = dict_row['y']\n",
    "        print(f\"x: {x}  y: {y}\")"
   ]
  },
  {
   "cell_type": "code",
   "execution_count": 9,
   "id": "41192016-8792-4dac-ba57-e6ccab6c3edb",
   "metadata": {},
   "outputs": [
    {
     "name": "stdout",
     "output_type": "stream",
     "text": [
      "2022-02-24 18:02:18,499 INFO sqlalchemy.engine.Engine BEGIN (implicit)\n",
      "2022-02-24 18:02:18,504 INFO sqlalchemy.engine.Engine SELECT x, y FROM some_table WHERE y > ?\n",
      "2022-02-24 18:02:18,527 INFO sqlalchemy.engine.Engine [generated in 0.03065s] (2,)\n",
      "x: 2  y: 4\n",
      "x: 6  y: 8\n",
      "x: 9  y: 10\n",
      "2022-02-24 18:02:18,534 INFO sqlalchemy.engine.Engine ROLLBACK\n"
     ]
    }
   ],
   "source": [
    "with engine.connect() as conn:\n",
    "    result = conn.execute(\n",
    "        text(\"SELECT x, y FROM some_table WHERE y > :y\"),\n",
    "        {\"y\": 2}\n",
    "    )\n",
    "    for row in result:\n",
    "        print(f\"x: {row.x}  y: {row.y}\")"
   ]
  },
  {
   "cell_type": "code",
   "execution_count": 10,
   "id": "2fec2786-7d62-4f4c-96d1-cb7ef62b8dac",
   "metadata": {},
   "outputs": [
    {
     "name": "stdout",
     "output_type": "stream",
     "text": [
      "2022-02-24 18:02:18,596 INFO sqlalchemy.engine.Engine BEGIN (implicit)\n",
      "2022-02-24 18:02:18,603 INFO sqlalchemy.engine.Engine INSERT INTO some_table (x, y) VALUES (?, ?)\n",
      "2022-02-24 18:02:18,614 INFO sqlalchemy.engine.Engine [cached since 0.4917s ago] ((11, 12), (13, 14))\n",
      "2022-02-24 18:02:18,621 INFO sqlalchemy.engine.Engine COMMIT\n"
     ]
    }
   ],
   "source": [
    "with engine.connect() as conn:\n",
    "    conn.execute(\n",
    "        text(\"INSERT INTO some_table (x, y) VALUES (:x, :y)\"),\n",
    "        [{\"x\": 11, \"y\": 12}, {\"x\": 13, \"y\": 14}]\n",
    "    )\n",
    "    conn.commit()"
   ]
  },
  {
   "cell_type": "code",
   "execution_count": 11,
   "id": "7d9da87f-aaa2-41d4-99a4-d171a998a60f",
   "metadata": {},
   "outputs": [
    {
     "name": "stdout",
     "output_type": "stream",
     "text": [
      "2022-02-24 18:02:18,668 INFO sqlalchemy.engine.Engine BEGIN (implicit)\n",
      "2022-02-24 18:02:18,670 INFO sqlalchemy.engine.Engine SELECT x, y FROM some_table WHERE y > ? ORDER BY x, y\n",
      "2022-02-24 18:02:18,672 INFO sqlalchemy.engine.Engine [generated in 0.00506s] (6,)\n",
      "x: 6  y: 8\n",
      "x: 9  y: 10\n",
      "x: 11  y: 12\n",
      "x: 13  y: 14\n",
      "2022-02-24 18:02:18,709 INFO sqlalchemy.engine.Engine ROLLBACK\n"
     ]
    }
   ],
   "source": [
    "stmt = text(\"SELECT x, y FROM some_table WHERE y > :y ORDER BY x, y\").bindparams(y=6)\n",
    "with engine.connect() as conn:\n",
    "    result = conn.execute(stmt)\n",
    "    for row in result:\n",
    "        print(f\"x: {row.x}  y: {row.y}\")"
   ]
  },
  {
   "cell_type": "code",
   "execution_count": 12,
   "id": "c1656e57-01b9-485c-8833-9494553706e2",
   "metadata": {},
   "outputs": [
    {
     "name": "stdout",
     "output_type": "stream",
     "text": [
      "2022-02-24 18:03:43,960 INFO sqlalchemy.engine.Engine BEGIN (implicit)\n",
      "2022-02-24 18:03:43,963 INFO sqlalchemy.engine.Engine SELECT x, y FROM some_table WHERE y > ? ORDER BY x, y\n",
      "2022-02-24 18:03:43,966 INFO sqlalchemy.engine.Engine [cached since 85.4s ago] (6,)\n",
      "x: 6  y: 8\n",
      "x: 9  y: 10\n",
      "x: 11  y: 12\n",
      "x: 13  y: 14\n",
      "2022-02-24 18:03:43,971 INFO sqlalchemy.engine.Engine ROLLBACK\n"
     ]
    }
   ],
   "source": [
    "from sqlalchemy.orm import Session\n",
    "\n",
    "stmt = text(\"SELECT x, y FROM some_table WHERE y > :y ORDER BY x, y\").bindparams(y=6)\n",
    "with Session(engine) as session:\n",
    "    result = session.execute(stmt)\n",
    "    for row in result:\n",
    "        print(f\"x: {row.x}  y: {row.y}\")"
   ]
  },
  {
   "cell_type": "code",
   "execution_count": 13,
   "id": "e4f30a6d-e215-4367-8865-8c41abd3f244",
   "metadata": {},
   "outputs": [
    {
     "name": "stdout",
     "output_type": "stream",
     "text": [
      "2022-02-24 18:04:22,282 INFO sqlalchemy.engine.Engine BEGIN (implicit)\n",
      "2022-02-24 18:04:22,288 INFO sqlalchemy.engine.Engine UPDATE some_table SET y=? WHERE x=?\n",
      "2022-02-24 18:04:22,292 INFO sqlalchemy.engine.Engine [generated in 0.00405s] ((11, 9), (15, 13))\n",
      "2022-02-24 18:04:22,297 INFO sqlalchemy.engine.Engine COMMIT\n"
     ]
    }
   ],
   "source": [
    "with Session(engine) as session:\n",
    "    result = session.execute(\n",
    "        text(\"UPDATE some_table SET y=:y WHERE x=:x\"),\n",
    "        [{\"x\": 9, \"y\":11}, {\"x\": 13, \"y\": 15}]\n",
    "    )\n",
    "    session.commit()"
   ]
  },
  {
   "cell_type": "code",
   "execution_count": null,
   "id": "9ee41185-127a-462d-93f5-ee0fe449ddb1",
   "metadata": {},
   "outputs": [],
   "source": []
  }
 ],
 "metadata": {
  "kernelspec": {
   "display_name": "Python 3",
   "language": "python",
   "name": "python3"
  },
  "language_info": {
   "codemirror_mode": {
    "name": "ipython",
    "version": 3
   },
   "file_extension": ".py",
   "mimetype": "text/x-python",
   "name": "python",
   "nbconvert_exporter": "python",
   "pygments_lexer": "ipython3",
   "version": "3.6.9"
  }
 },
 "nbformat": 4,
 "nbformat_minor": 5
}
